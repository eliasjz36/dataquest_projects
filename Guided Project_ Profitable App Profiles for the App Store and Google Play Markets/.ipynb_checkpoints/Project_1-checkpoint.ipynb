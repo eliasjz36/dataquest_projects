{
 "cells": [
  {
   "cell_type": "markdown",
   "id": "3d3b42cf",
   "metadata": {},
   "source": [
    "# Profitable App Profiles for the App Store and Google Play Markets\n",
    "\n",
    "Our aim in this project is to find mobile app profiles that are profitable for the App Store and Google Play markets. We're working as data analysts for a company that builds Android and iOS mobile apps, and our job is to enable our team of developers to make data-driven decisions with respect to the kind of apps they build.\n",
    "\n",
    "At our company, we only build apps that are free to download and install, and we design them for an English-speaking audience. Our main source of revenue consists of in-app ads. This means that our revenue for any given app is mostly influenced by the number of users that use our app. Our goal for this project is to analyze data to help our developers understand what type of apps are likely to attract more users."
   ]
  },
  {
   "cell_type": "markdown",
   "id": "44d3d5d1",
   "metadata": {},
   "source": [
    "## Opening and Exploring the Data\n",
    "\n",
    "As of September 2018, there were approximately 2 million iOS apps available on the App Store, and 2.1 million Android apps on Google Play.\n",
    "\n",
    "Collecting data for over four million apps requires a significant amount of time and money, so we'll try to analyze a sample of data instead. To avoid spending resources with collecting new data ourselves, we should first try to see whether we can find any relevant existing data at no cost. Luckily, these are two data sets that seem suitable for our purpose:\n",
    "\n",
    "- [A dataset](https://www.kaggle.com/lava18/google-play-store-apps) containing data about approximately 10,000 Android apps from Google Play. You can download the data set directly from [this link](https://dq-content.s3.amazonaws.com/350/googleplaystore.csv).\n",
    "\n",
    "- [A dataset](https://www.kaggle.com/ramamet4/app-store-apple-data-set-10k-apps) containing data about approximately 7,000 iOS apps from the App Store. You can download the data set directly from [this link](https://dq-content.s3.amazonaws.com/350/AppleStore.csv).\n",
    "\n",
    "Let's start by opening the two data sets and then continue with exploring the data."
   ]
  },
  {
   "cell_type": "code",
   "execution_count": 1,
   "id": "a114d225",
   "metadata": {},
   "outputs": [],
   "source": [
    "from csv import reader\n",
    "\n",
    "#Apple Store Dataset\n",
    "opened_file = open('AppleStore.csv', encoding = 'utf-8')\n",
    "read_file = reader(opened_file)\n",
    "ios_apps = list(read_file)\n",
    "ios_header = ios_apps[0]\n",
    "ios_apps = ios_apps[1:]\n",
    "\n",
    "#Google Play Store Dataset\n",
    "opened_file = open('googleplaystore.csv', encoding = 'utf-8')\n",
    "read_file = reader(opened_file)\n",
    "android_apps = list(read_file)\n",
    "android_header = android_apps[0]\n",
    "android_apps = android_apps[1:]"
   ]
  },
  {
   "cell_type": "markdown",
   "id": "835daed6",
   "metadata": {},
   "source": [
    "To make it easier to explore the two data sets, we'll first write a function named  `explore_data()` that we can use repeatedly to explore rows in a more readable way. We'll also add an option for our function to show the number of rows and columns for any data set."
   ]
  },
  {
   "cell_type": "code",
   "execution_count": 2,
   "id": "4acc8fbf",
   "metadata": {
    "scrolled": true
   },
   "outputs": [
    {
     "name": "stdout",
     "output_type": "stream",
     "text": [
      "['App', 'Category', 'Rating', 'Reviews', 'Size', 'Installs', 'Type', 'Price', 'Content Rating', 'Genres', 'Last Updated', 'Current Ver', 'Android Ver']\n",
      "\n",
      "\n",
      "['Life Made WI-Fi Touchscreen Photo Frame', '1.9', '19', '3.0M', '1,000+', 'Free', '0', 'Everyone', '', 'February 11, 2018', '1.0.19', '4.0 and up']\n",
      "\n",
      "\n",
      "Number of rows: 10841\n",
      "Number of columns: 13\n"
     ]
    }
   ],
   "source": [
    "def explore_data(dataset, start, end, rows_and_columns=False):\n",
    "    dataset_slice = dataset[start:end]    \n",
    "    for row in dataset_slice:\n",
    "        print(row)\n",
    "        print('\\n') # adds a new (empty) line after each row\n",
    "\n",
    "    if rows_and_columns:\n",
    "        print('Number of rows:', len(dataset))\n",
    "        print('Number of columns:', len(dataset[0]))\n",
    "        \n",
    "print(android_header)\n",
    "print('\\n')\n",
    "explore_data(android_apps, 10472, 10473, True)"
   ]
  },
  {
   "cell_type": "markdown",
   "id": "b152f794",
   "metadata": {},
   "source": [
    "Now let's take a look at the App Store data set."
   ]
  },
  {
   "cell_type": "code",
   "execution_count": 3,
   "id": "9be74186",
   "metadata": {},
   "outputs": [
    {
     "name": "stdout",
     "output_type": "stream",
     "text": [
      "['id', 'track_name', 'size_bytes', 'currency', 'price', 'rating_count_tot', 'rating_count_ver', 'user_rating', 'user_rating_ver', 'ver', 'cont_rating', 'prime_genre', 'sup_devices.num', 'ipadSc_urls.num', 'lang.num', 'vpp_lic']\n",
      "\n",
      "\n",
      "['284882215', 'Facebook', '389879808', 'USD', '0.0', '2974676', '212', '3.5', '3.5', '95.0', '4+', 'Social Networking', '37', '1', '29', '1']\n",
      "\n",
      "\n",
      "['389801252', 'Instagram', '113954816', 'USD', '0.0', '2161558', '1289', '4.5', '4.0', '10.23', '12+', 'Photo & Video', '37', '0', '29', '1']\n",
      "\n",
      "\n",
      "Number of rows: 7197\n",
      "Number of columns: 16\n"
     ]
    }
   ],
   "source": [
    "print(ios_header)\n",
    "print('\\n')\n",
    "explore_data(ios_apps, 0, 2, True)"
   ]
  },
  {
   "cell_type": "markdown",
   "id": "c1d36a6f",
   "metadata": {},
   "source": [
    "## Deleting Wrong Data\n",
    "\n",
    "The Google Play data set has a dedicated discussion section, and we can see that one of the discussions outlines an error for row 10472. Let's print this row and compare it against the header and another row that is correct."
   ]
  },
  {
   "cell_type": "code",
   "execution_count": 4,
   "id": "4fef0555",
   "metadata": {},
   "outputs": [
    {
     "name": "stdout",
     "output_type": "stream",
     "text": [
      "10841\n",
      "10840\n"
     ]
    }
   ],
   "source": [
    "print(len(android_apps))\n",
    "del android_apps[10472]\n",
    "print(len(android_apps))"
   ]
  },
  {
   "cell_type": "markdown",
   "id": "86cbc7dd",
   "metadata": {},
   "source": [
    "### Part One\n",
    "\n",
    "If we explore the Google Play data set long enough, we'll find that some apps have more than one entry. For instance, the application Instagram has four entries:"
   ]
  },
  {
   "cell_type": "code",
   "execution_count": 5,
   "id": "6d674c19",
   "metadata": {},
   "outputs": [
    {
     "name": "stdout",
     "output_type": "stream",
     "text": [
      "['Instagram', 'SOCIAL', '4.5', '66577313', 'Varies with device', '1,000,000,000+', 'Free', '0', 'Teen', 'Social', 'July 31, 2018', 'Varies with device', 'Varies with device']\n",
      "['Instagram', 'SOCIAL', '4.5', '66577446', 'Varies with device', '1,000,000,000+', 'Free', '0', 'Teen', 'Social', 'July 31, 2018', 'Varies with device', 'Varies with device']\n",
      "['Instagram', 'SOCIAL', '4.5', '66577313', 'Varies with device', '1,000,000,000+', 'Free', '0', 'Teen', 'Social', 'July 31, 2018', 'Varies with device', 'Varies with device']\n",
      "['Instagram', 'SOCIAL', '4.5', '66509917', 'Varies with device', '1,000,000,000+', 'Free', '0', 'Teen', 'Social', 'July 31, 2018', 'Varies with device', 'Varies with device']\n"
     ]
    }
   ],
   "source": [
    "for app in android_apps:\n",
    "    name = app[0]\n",
    "    \n",
    "    if name == 'Instagram':\n",
    "        print(app)"
   ]
  },
  {
   "cell_type": "markdown",
   "id": "f3d5907c",
   "metadata": {},
   "source": [
    "Now we are going to count the number of duplicate entries in the android dataset:"
   ]
  },
  {
   "cell_type": "code",
   "execution_count": 6,
   "id": "2c53886b",
   "metadata": {},
   "outputs": [
    {
     "name": "stdout",
     "output_type": "stream",
     "text": [
      "Number of duplicate apps: 1181\n"
     ]
    }
   ],
   "source": [
    "duplicate_apps = []\n",
    "unique_apps = []\n",
    "\n",
    "for app in android_apps:\n",
    "    name = app[0]\n",
    "    \n",
    "    if name in unique_apps:\n",
    "        duplicate_apps.append(name)\n",
    "    else:\n",
    "        unique_apps.append(name)\n",
    "            \n",
    "print(f'Number of duplicate apps: {len(duplicate_apps)}')"
   ]
  },
  {
   "cell_type": "markdown",
   "id": "29d73221",
   "metadata": {},
   "source": [
    "We don't want to count certain apps more than once when we analyze data, so we need to remove the duplicate entries and keep only one entry per app. \n",
    "\n",
    "If you examine the rows we printed for the Instagram app, the main difference happens on the fourth position of each row, which corresponds to the number of reviews. The higher the number of reviews, the more recent the data should be. Then rather than removing duplicates randomly, we'll only keep the row with the highest number of reviews and remove the other entries for any given app.\n",
    "\n",
    "To do that, we will:\n",
    "\n",
    "- Create a dictionary, where each dictionary key is a unique app name and the corresponding dictionary value is the highest number of reviews of that app.\n",
    "- Use the information stored in the dictionary and create a new dataset, which will have only one entry per app (and for each app, we'll only select the entry with the highest number of reviews)."
   ]
  },
  {
   "cell_type": "markdown",
   "id": "d21a305b",
   "metadata": {},
   "source": [
    "### Part Two\n",
    "\n",
    "Let's start by building the dictionary."
   ]
  },
  {
   "cell_type": "code",
   "execution_count": 7,
   "id": "77527c7d",
   "metadata": {},
   "outputs": [],
   "source": [
    "reviews_max = {}\n",
    "\n",
    "for app in android_apps:\n",
    "    name = app[0]\n",
    "    n_reviews = float(app[3])\n",
    "    \n",
    "    if name in reviews_max and reviews_max[name] < n_reviews:\n",
    "        reviews_max[name] = n_reviews\n",
    "        \n",
    "    elif name not in reviews_max:\n",
    "        reviews_max[name] = n_reviews"
   ]
  },
  {
   "cell_type": "markdown",
   "id": "fc0ddc4d",
   "metadata": {},
   "source": [
    "After we remove the duplicates, we should be left with 9,659 rows:"
   ]
  },
  {
   "cell_type": "code",
   "execution_count": 8,
   "id": "35ab3fab",
   "metadata": {},
   "outputs": [
    {
     "name": "stdout",
     "output_type": "stream",
     "text": [
      "Length: 9659\n",
      "Expected length: 9659\n"
     ]
    }
   ],
   "source": [
    "print(f'Length: {len(android_apps) - 1181}')\n",
    "print(f'Expected length: {len(reviews_max)}')"
   ]
  },
  {
   "cell_type": "markdown",
   "id": "7d7842b2",
   "metadata": {},
   "source": [
    "Now, let's use the reviews_max dictionary to remove the duplicates. For the duplicate cases, we'll only keep the entries with the highest number of reviews. In the code cell below:\n",
    "\n",
    "* We start by initializing two empty lists, android_clean and already_added.\n",
    "* We loop through the android data set, and for every iteration:\n",
    "    * We isolate the name of the app and the number of reviews.\n",
    "    * We add the current row (app) to the android_clean list, and the app name (name) to the already_added list if:\n",
    "        * The number of reviews of the current app matches the number of reviews of that app as described in the reviews_max dictionary; and\n",
    "        * The name of the app is not already in the already_added list. We need to add this supplementary condition to account for those cases where the highest number of reviews of a duplicate app is the same for more than one entry (for example, the Box app has three entries, and the number of reviews is the same). If we just check for reviews_max[name] == n_reviews, we'll still end up with duplicate entries for some apps."
   ]
  },
  {
   "cell_type": "code",
   "execution_count": 9,
   "id": "c2d331f4",
   "metadata": {},
   "outputs": [],
   "source": [
    "android_clean = []\n",
    "already_added = []\n",
    "\n",
    "for app in android_apps:\n",
    "    name = app[0]\n",
    "    n_reviews = float(app[3])\n",
    "    \n",
    "    if n_reviews == reviews_max[name] and name not in already_added:\n",
    "        android_clean.append(app)\n",
    "        already_added.append(name)"
   ]
  },
  {
   "cell_type": "markdown",
   "id": "3cd5721b",
   "metadata": {},
   "source": [
    "Now let's quickly explore the new data set, and confirm that the number of rows is 9,659."
   ]
  },
  {
   "cell_type": "code",
   "execution_count": 10,
   "id": "b8ef9ad3",
   "metadata": {},
   "outputs": [
    {
     "name": "stdout",
     "output_type": "stream",
     "text": [
      "['Photo Editor & Candy Camera & Grid & ScrapBook', 'ART_AND_DESIGN', '4.1', '159', '19M', '10,000+', 'Free', '0', 'Everyone', 'Art & Design', 'January 7, 2018', '1.0.0', '4.0.3 and up']\n",
      "\n",
      "\n",
      "['U Launcher Lite – FREE Live Cool Themes, Hide Apps', 'ART_AND_DESIGN', '4.7', '87510', '8.7M', '5,000,000+', 'Free', '0', 'Everyone', 'Art & Design', 'August 1, 2018', '1.2.4', '4.0.3 and up']\n",
      "\n",
      "\n",
      "['Sketch - Draw & Paint', 'ART_AND_DESIGN', '4.5', '215644', '25M', '50,000,000+', 'Free', '0', 'Teen', 'Art & Design', 'June 8, 2018', 'Varies with device', '4.2 and up']\n",
      "\n",
      "\n",
      "Number of rows: 9659\n",
      "Number of columns: 13\n"
     ]
    }
   ],
   "source": [
    "explore_data(android_clean, 0, 3, True)"
   ]
  },
  {
   "cell_type": "markdown",
   "id": "488b7e54",
   "metadata": {},
   "source": [
    "We have 9659 rows, just as expected."
   ]
  },
  {
   "cell_type": "markdown",
   "id": "13075a48",
   "metadata": {},
   "source": [
    "## Removing Non-English Apps"
   ]
  },
  {
   "cell_type": "markdown",
   "id": "6a950248",
   "metadata": {},
   "source": [
    "### Part One\n",
    "\n",
    "If we explore the data long enough, we'll find that both datasets have apps with names that suggest they are not designed for an English-speaking audience."
   ]
  },
  {
   "cell_type": "code",
   "execution_count": 11,
   "id": "8f07d48d",
   "metadata": {},
   "outputs": [
    {
     "name": "stdout",
     "output_type": "stream",
     "text": [
      "爱奇艺PPS -《欢乐颂2》电视剧热播\n",
      "【脱出ゲーム】絶対に最後までプレイしないで 〜謎解き＆ブロックパズル〜\n",
      "\n",
      "\n",
      "中国語 AQリスニング\n",
      "لعبة تقدر تربح DZ\n"
     ]
    }
   ],
   "source": [
    "print(ios_apps[813][1])\n",
    "print(ios_apps[6731][1])\n",
    "print('\\n')\n",
    "print(android_clean[4412][0])\n",
    "print(android_clean[7940][0])"
   ]
  },
  {
   "cell_type": "markdown",
   "id": "7f8122a2",
   "metadata": {},
   "source": [
    "We're not interested in keeping these apps, so we'll remove them. One way to do this is to remove each app with a name containing a symbol that isn't commonly used in English text — English text usually includes letters from the English alphabet, numbers composed of digits from 0 to 9, punctuation marks (., !, ?, ;), and other symbols (+, *, /).\n",
    "\n",
    "Each character we use in a string has a corresponding number associated with it. The numbers corresponding to the characters we commonly use in an English text are all in the range 0 to 127, according to the ASCII (American Standard Code for Information Interchange) system. Based on this number range, we can build a function that detects whether a character belongs to the set of common English characters or not. "
   ]
  },
  {
   "cell_type": "code",
   "execution_count": 12,
   "id": "1a36a612",
   "metadata": {},
   "outputs": [],
   "source": [
    "def detect_english_name(name):\n",
    "    \n",
    "    for char in name:\n",
    "        if ord(char) > 127:\n",
    "            return False\n",
    "        \n",
    "    return True"
   ]
  },
  {
   "cell_type": "markdown",
   "id": "e5ed94ad",
   "metadata": {},
   "source": [
    "Now we are going to test if the function detects the following words as English or non-English:"
   ]
  },
  {
   "cell_type": "code",
   "execution_count": 13,
   "id": "2e3a711a",
   "metadata": {},
   "outputs": [
    {
     "name": "stdout",
     "output_type": "stream",
     "text": [
      "True\n",
      "False\n",
      "False\n",
      "False\n"
     ]
    }
   ],
   "source": [
    "print(detect_english_name('instagram'))\n",
    "print(detect_english_name('爱奇艺PPS -《欢乐颂2》电视剧热播'))\n",
    "print(detect_english_name('Docs To Go™ Free Office Suite'))\n",
    "print(detect_english_name('Instachat 😜'))"
   ]
  },
  {
   "cell_type": "markdown",
   "id": "fa378d9c",
   "metadata": {},
   "source": [
    "We wrote a function that detects non-English app names, but we saw that the function couldn't correctly identify certain English app names like `'Docs To Go™ Free Office Suite'` and `'Instachat 😜'`. This is because emojis and characters like `™` fall outside the ASCII range and have corresponding numbers over 127."
   ]
  },
  {
   "cell_type": "code",
   "execution_count": 14,
   "id": "c22bb022",
   "metadata": {},
   "outputs": [
    {
     "name": "stdout",
     "output_type": "stream",
     "text": [
      "8482\n",
      "128540\n"
     ]
    }
   ],
   "source": [
    "print(ord('™'))\n",
    "print(ord('😜'))"
   ]
  },
  {
   "cell_type": "markdown",
   "id": "08d38d7e",
   "metadata": {},
   "source": [
    "### Part Two\n",
    "\n",
    "If we're going to use the function we've created, we'll lose useful data since many English apps will be incorrectly labeled as non-English. To minimize the impact of data loss, we'll only remove an app if its name has more than three characters with corresponding numbers falling outside the ASCII range."
   ]
  },
  {
   "cell_type": "code",
   "execution_count": 15,
   "id": "f138f81e",
   "metadata": {},
   "outputs": [],
   "source": [
    "def detect_english_name(name):\n",
    "    outside_ascii = 0\n",
    "    \n",
    "    for char in name:\n",
    "        if ord(char) > 127:\n",
    "            outside_ascii += 1\n",
    "        \n",
    "    if outside_ascii > 3:\n",
    "        return False\n",
    "    \n",
    "    return True"
   ]
  },
  {
   "cell_type": "markdown",
   "id": "6299eaef",
   "metadata": {},
   "source": [
    "Now we are going to test if the function detects the following words as English or non-English:"
   ]
  },
  {
   "cell_type": "code",
   "execution_count": 16,
   "id": "0b49069f",
   "metadata": {},
   "outputs": [
    {
     "name": "stdout",
     "output_type": "stream",
     "text": [
      "False\n",
      "True\n",
      "True\n"
     ]
    }
   ],
   "source": [
    "print(detect_english_name('爱奇艺PPS -《欢乐颂2》电视剧热播'))\n",
    "print(detect_english_name('Docs To Go™ Free Office Suite'))\n",
    "print(detect_english_name('Instachat 😜'))"
   ]
  },
  {
   "cell_type": "markdown",
   "id": "1c245a6d",
   "metadata": {},
   "source": [
    "We will use the new function to filter the non-English applications from both data sets."
   ]
  },
  {
   "cell_type": "code",
   "execution_count": 17,
   "id": "f1dce5c7",
   "metadata": {},
   "outputs": [],
   "source": [
    "android_english_apps = []\n",
    "ios_english_apps = []\n",
    "\n",
    "for app in android_clean:\n",
    "    name = app[0]\n",
    "    \n",
    "    if detect_english_name(name):\n",
    "        android_english_apps.append(app)\n",
    "        \n",
    "for app in ios_apps:\n",
    "    name = app[1]\n",
    "    \n",
    "    if detect_english_name(name):\n",
    "        ios_english_apps.append(app)"
   ]
  },
  {
   "cell_type": "markdown",
   "id": "044666b2",
   "metadata": {},
   "source": [
    "Now let's quickly explore the new data set, and see how many rows are left for each data set"
   ]
  },
  {
   "cell_type": "code",
   "execution_count": 18,
   "id": "c7556bbf",
   "metadata": {},
   "outputs": [
    {
     "name": "stdout",
     "output_type": "stream",
     "text": [
      "['Photo Editor & Candy Camera & Grid & ScrapBook', 'ART_AND_DESIGN', '4.1', '159', '19M', '10,000+', 'Free', '0', 'Everyone', 'Art & Design', 'January 7, 2018', '1.0.0', '4.0.3 and up']\n",
      "\n",
      "\n",
      "['U Launcher Lite – FREE Live Cool Themes, Hide Apps', 'ART_AND_DESIGN', '4.7', '87510', '8.7M', '5,000,000+', 'Free', '0', 'Everyone', 'Art & Design', 'August 1, 2018', '1.2.4', '4.0.3 and up']\n",
      "\n",
      "\n",
      "Number of rows: 9614\n",
      "Number of columns: 13\n",
      "\n",
      "\n",
      "['284882215', 'Facebook', '389879808', 'USD', '0.0', '2974676', '212', '3.5', '3.5', '95.0', '4+', 'Social Networking', '37', '1', '29', '1']\n",
      "\n",
      "\n",
      "['389801252', 'Instagram', '113954816', 'USD', '0.0', '2161558', '1289', '4.5', '4.0', '10.23', '12+', 'Photo & Video', '37', '0', '29', '1']\n",
      "\n",
      "\n",
      "Number of rows: 6183\n",
      "Number of columns: 16\n"
     ]
    }
   ],
   "source": [
    "explore_data(android_english_apps, 0, 2, True)\n",
    "print('\\n')\n",
    "explore_data(ios_english_apps, 0, 2, True)"
   ]
  },
  {
   "cell_type": "markdown",
   "id": "deb5f31b",
   "metadata": {},
   "source": [
    "## Isolating the Free Apps"
   ]
  },
  {
   "cell_type": "markdown",
   "id": "e6f18013",
   "metadata": {},
   "source": [
    " Our datasets contain both free and non-free apps; we'll need to isolate only the free apps for our analysis."
   ]
  },
  {
   "cell_type": "code",
   "execution_count": 19,
   "id": "3ff3e31c",
   "metadata": {},
   "outputs": [],
   "source": [
    "android_free_apps = []\n",
    "ios_free_apps = []\n",
    "\n",
    "for app in android_english_apps:\n",
    "    price = app[7]\n",
    "    \n",
    "    if price == '0':\n",
    "        android_free_apps.append(app)\n",
    "\n",
    "for app in ios_english_apps:\n",
    "    price = app[4]\n",
    "    \n",
    "    if price == '0.0':\n",
    "        ios_free_apps.append(app)"
   ]
  },
  {
   "cell_type": "markdown",
   "id": "c5e387d8",
   "metadata": {},
   "source": [
    "Let's see how many apps have remained in each data set"
   ]
  },
  {
   "cell_type": "code",
   "execution_count": 20,
   "id": "e69cf0c2",
   "metadata": {},
   "outputs": [
    {
     "name": "stdout",
     "output_type": "stream",
     "text": [
      "Length of Google Play Store dataset before: 9614\n",
      "Length of Google Play Store dataset now: 8864\n"
     ]
    }
   ],
   "source": [
    "print(f'Length of Google Play Store dataset before: {len(android_english_apps)}')\n",
    "print(f'Length of Google Play Store dataset now: {len(android_free_apps)}')"
   ]
  },
  {
   "cell_type": "code",
   "execution_count": 21,
   "id": "11fc787a",
   "metadata": {},
   "outputs": [
    {
     "name": "stdout",
     "output_type": "stream",
     "text": [
      "Length of App Store dataset before: 6183\n",
      "Length of App Store dataset now: 3222\n"
     ]
    }
   ],
   "source": [
    "print(f'Length of App Store dataset before: {len(ios_english_apps)}')\n",
    "print(f'Length of App Store dataset now: {len(ios_free_apps)}')"
   ]
  },
  {
   "cell_type": "markdown",
   "id": "aa9c4fff",
   "metadata": {},
   "source": [
    "## Most Common Apps by Gengre"
   ]
  },
  {
   "cell_type": "markdown",
   "id": "e3b06b6d",
   "metadata": {},
   "source": [
    "### Part One\n",
    "\n",
    "As we mentioned in the introduction, our aim is to determine the kinds of apps that are likely to attract more users because our revenue is highly influenced by the number of people using our apps.\n",
    "\n",
    "To minimize risks and overhead, our validation strategy for an app idea is comprised of three steps:\n",
    "\n",
    "1. Build a minimal Android version of the app, and add it to Google Play.\n",
    "2. If the app has a good response from users, we then develop it further.\n",
    "3. If the app is profitable after six months, we also build an iOS version of the app and add it to the App Store.\n",
    "\n",
    "Because our end goal is to add the app on both the App Store and Google Play, we need to find app profiles that are successful on both markets. For instance, a profile that might work well for both markets might be a productivity app that makes use of gamification.\n",
    "\n",
    "Let's begin the analysis by getting a sense of the most common genres for each market. For this, we'll build a frequency table for the `prime_genre` column of the App Store data set, and the `Genres` and `Category` columns of the Google Play data set."
   ]
  },
  {
   "cell_type": "markdown",
   "id": "06906ccd",
   "metadata": {},
   "source": [
    "### Part Two\n",
    "\n",
    "We'll build two functions we can use to analyze the frequency tables:\n",
    "\n",
    "* One function to generate frequency tables that show percentages\n",
    "* Another function we can use to display the percentages in a descending order"
   ]
  },
  {
   "cell_type": "code",
   "execution_count": 22,
   "id": "fdf2e3a5",
   "metadata": {},
   "outputs": [],
   "source": [
    "def freq_table(dataset, index):\n",
    "    frequency_table = {}\n",
    "    \n",
    "    for row in dataset:\n",
    "        value = row[index]\n",
    "        frequency_table[value] = frequency_table.get(value, 0) +1\n",
    "        \n",
    "    for key in frequency_table:\n",
    "        frequency_table[key] /= len(dataset)\n",
    "        frequency_table[key] *= 100\n",
    "    \n",
    "    return frequency_table\n",
    "\n",
    "def display_table(dataset, index):\n",
    "    table = freq_table(dataset, index)\n",
    "    table_display = []\n",
    "    for key in table:\n",
    "        key_val_as_tuple = (table[key], key)\n",
    "        table_display.append(key_val_as_tuple)\n",
    "        \n",
    "    table_sorted = sorted(table_display, reverse = True)\n",
    "    for entry in table_sorted:\n",
    "        print(entry[1], ':', entry[0])"
   ]
  },
  {
   "cell_type": "markdown",
   "id": "296d06eb",
   "metadata": {},
   "source": [
    "We'll use the `display_table` function to display the frequency table of the columns `prime_genre`, `Genres`, and `Category`."
   ]
  },
  {
   "cell_type": "markdown",
   "id": "53300584",
   "metadata": {},
   "source": [
    "### Part Three\n",
    "\n",
    "We already generated frequency tables for the columns `prime_genre`, `Genres`, and `Category`. We'll now focus on analyzing these frequency tables."
   ]
  },
  {
   "cell_type": "code",
   "execution_count": 23,
   "id": "1b41fbb3",
   "metadata": {},
   "outputs": [
    {
     "name": "stdout",
     "output_type": "stream",
     "text": [
      "Games : 58.16263190564867\n",
      "Entertainment : 7.883302296710118\n",
      "Photo & Video : 4.9658597144630665\n",
      "Education : 3.662321539416512\n",
      "Social Networking : 3.2898820608317814\n",
      "Shopping : 2.60707635009311\n",
      "Utilities : 2.5139664804469275\n",
      "Sports : 2.1415270018621975\n",
      "Music : 2.0484171322160147\n",
      "Health & Fitness : 2.0173805090006205\n",
      "Productivity : 1.7380509000620732\n",
      "Lifestyle : 1.5828677839851024\n",
      "News : 1.3345747982619491\n",
      "Travel : 1.2414649286157666\n",
      "Finance : 1.1173184357541899\n",
      "Weather : 0.8690254500310366\n",
      "Food & Drink : 0.8069522036002483\n",
      "Reference : 0.5586592178770949\n",
      "Business : 0.5276225946617008\n",
      "Book : 0.4345127250155183\n",
      "Navigation : 0.186219739292365\n",
      "Medical : 0.186219739292365\n",
      "Catalogs : 0.12414649286157665\n"
     ]
    }
   ],
   "source": [
    "display_table(ios_free_apps, -5)"
   ]
  },
  {
   "cell_type": "markdown",
   "id": "cc4bcc69",
   "metadata": {},
   "source": [
    "As we can see, the most common genre in the case of the App Store are Games with 58%. The next most common genre is Entertainment with 7% and Photo & Video with 4% (we must bear in mind that this is in the case of free applications in English so we could not reach the same conclusion if we analyze all the applications). \n",
    "\n",
    "With this we can deduce that most of the free applications in English in the App Store are designed for entertainment(games, photo and video, social networking, etc.) rather than for practical purposes(education, shopping, utilities, etc.). Despite having more applications designed for fun, it does not mean that they have a larger audience."
   ]
  },
  {
   "cell_type": "code",
   "execution_count": 24,
   "id": "4909f7df",
   "metadata": {},
   "outputs": [
    {
     "name": "stdout",
     "output_type": "stream",
     "text": [
      "FAMILY : 18.907942238267147\n",
      "GAME : 9.724729241877256\n",
      "TOOLS : 8.461191335740072\n",
      "BUSINESS : 4.591606498194946\n",
      "LIFESTYLE : 3.9034296028880866\n",
      "PRODUCTIVITY : 3.892148014440433\n",
      "FINANCE : 3.7003610108303246\n",
      "MEDICAL : 3.531137184115524\n",
      "SPORTS : 3.395758122743682\n",
      "PERSONALIZATION : 3.3167870036101084\n",
      "COMMUNICATION : 3.2378158844765346\n",
      "HEALTH_AND_FITNESS : 3.0798736462093865\n",
      "PHOTOGRAPHY : 2.944494584837545\n",
      "NEWS_AND_MAGAZINES : 2.7978339350180503\n",
      "SOCIAL : 2.6624548736462095\n",
      "TRAVEL_AND_LOCAL : 2.33528880866426\n",
      "SHOPPING : 2.2450361010830324\n",
      "BOOKS_AND_REFERENCE : 2.1435018050541514\n",
      "DATING : 1.861462093862816\n",
      "VIDEO_PLAYERS : 1.7937725631768955\n",
      "MAPS_AND_NAVIGATION : 1.3989169675090252\n",
      "FOOD_AND_DRINK : 1.2409747292418771\n",
      "EDUCATION : 1.1620036101083033\n",
      "ENTERTAINMENT : 0.9589350180505415\n",
      "LIBRARIES_AND_DEMO : 0.9363718411552346\n",
      "AUTO_AND_VEHICLES : 0.9250902527075812\n",
      "HOUSE_AND_HOME : 0.8235559566787004\n",
      "WEATHER : 0.8009927797833934\n",
      "EVENTS : 0.7107400722021661\n",
      "PARENTING : 0.6543321299638989\n",
      "ART_AND_DESIGN : 0.6430505415162455\n",
      "COMICS : 0.6204873646209386\n",
      "BEAUTY : 0.5979241877256317\n"
     ]
    }
   ],
   "source": [
    "display_table(android_free_apps, 1)"
   ]
  },
  {
   "cell_type": "code",
   "execution_count": 25,
   "id": "78548d52",
   "metadata": {
    "scrolled": true
   },
   "outputs": [
    {
     "name": "stdout",
     "output_type": "stream",
     "text": [
      "Tools : 8.449909747292418\n",
      "Entertainment : 6.069494584837545\n",
      "Education : 5.347472924187725\n",
      "Business : 4.591606498194946\n",
      "Productivity : 3.892148014440433\n",
      "Lifestyle : 3.892148014440433\n",
      "Finance : 3.7003610108303246\n",
      "Medical : 3.531137184115524\n",
      "Sports : 3.463447653429603\n",
      "Personalization : 3.3167870036101084\n",
      "Communication : 3.2378158844765346\n",
      "Action : 3.1024368231046933\n",
      "Health & Fitness : 3.0798736462093865\n",
      "Photography : 2.944494584837545\n",
      "News & Magazines : 2.7978339350180503\n",
      "Social : 2.6624548736462095\n",
      "Travel & Local : 2.3240072202166067\n",
      "Shopping : 2.2450361010830324\n",
      "Books & Reference : 2.1435018050541514\n",
      "Simulation : 2.0419675090252705\n",
      "Dating : 1.861462093862816\n",
      "Arcade : 1.8501805054151623\n",
      "Video Players & Editors : 1.7712093862815883\n",
      "Casual : 1.7599277978339352\n",
      "Maps & Navigation : 1.3989169675090252\n",
      "Food & Drink : 1.2409747292418771\n",
      "Puzzle : 1.128158844765343\n",
      "Racing : 0.9927797833935018\n",
      "Role Playing : 0.9363718411552346\n",
      "Libraries & Demo : 0.9363718411552346\n",
      "Auto & Vehicles : 0.9250902527075812\n",
      "Strategy : 0.9138086642599278\n",
      "House & Home : 0.8235559566787004\n",
      "Weather : 0.8009927797833934\n",
      "Events : 0.7107400722021661\n",
      "Adventure : 0.6768953068592057\n",
      "Comics : 0.6092057761732852\n",
      "Beauty : 0.5979241877256317\n",
      "Art & Design : 0.5979241877256317\n",
      "Parenting : 0.4963898916967509\n",
      "Card : 0.45126353790613716\n",
      "Casino : 0.42870036101083037\n",
      "Trivia : 0.41741877256317694\n",
      "Educational;Education : 0.39485559566787\n",
      "Board : 0.3835740072202166\n",
      "Educational : 0.3722924187725632\n",
      "Education;Education : 0.33844765342960287\n",
      "Word : 0.2594765342960289\n",
      "Casual;Pretend Play : 0.236913357400722\n",
      "Music : 0.2030685920577617\n",
      "Racing;Action & Adventure : 0.16922382671480143\n",
      "Puzzle;Brain Games : 0.16922382671480143\n",
      "Entertainment;Music & Video : 0.16922382671480143\n",
      "Casual;Brain Games : 0.13537906137184114\n",
      "Casual;Action & Adventure : 0.13537906137184114\n",
      "Arcade;Action & Adventure : 0.12409747292418773\n",
      "Action;Action & Adventure : 0.10153429602888085\n",
      "Educational;Pretend Play : 0.09025270758122744\n",
      "Simulation;Action & Adventure : 0.078971119133574\n",
      "Parenting;Education : 0.078971119133574\n",
      "Entertainment;Brain Games : 0.078971119133574\n",
      "Board;Brain Games : 0.078971119133574\n",
      "Parenting;Music & Video : 0.06768953068592057\n",
      "Educational;Brain Games : 0.06768953068592057\n",
      "Casual;Creativity : 0.06768953068592057\n",
      "Art & Design;Creativity : 0.06768953068592057\n",
      "Education;Pretend Play : 0.056407942238267145\n",
      "Role Playing;Pretend Play : 0.04512635379061372\n",
      "Education;Creativity : 0.04512635379061372\n",
      "Role Playing;Action & Adventure : 0.033844765342960284\n",
      "Puzzle;Action & Adventure : 0.033844765342960284\n",
      "Entertainment;Creativity : 0.033844765342960284\n",
      "Entertainment;Action & Adventure : 0.033844765342960284\n",
      "Educational;Creativity : 0.033844765342960284\n",
      "Educational;Action & Adventure : 0.033844765342960284\n",
      "Education;Music & Video : 0.033844765342960284\n",
      "Education;Brain Games : 0.033844765342960284\n",
      "Education;Action & Adventure : 0.033844765342960284\n",
      "Adventure;Action & Adventure : 0.033844765342960284\n",
      "Video Players & Editors;Music & Video : 0.02256317689530686\n",
      "Sports;Action & Adventure : 0.02256317689530686\n",
      "Simulation;Pretend Play : 0.02256317689530686\n",
      "Puzzle;Creativity : 0.02256317689530686\n",
      "Music;Music & Video : 0.02256317689530686\n",
      "Entertainment;Pretend Play : 0.02256317689530686\n",
      "Casual;Education : 0.02256317689530686\n",
      "Board;Action & Adventure : 0.02256317689530686\n",
      "Video Players & Editors;Creativity : 0.01128158844765343\n",
      "Trivia;Education : 0.01128158844765343\n",
      "Travel & Local;Action & Adventure : 0.01128158844765343\n",
      "Tools;Education : 0.01128158844765343\n",
      "Strategy;Education : 0.01128158844765343\n",
      "Strategy;Creativity : 0.01128158844765343\n",
      "Strategy;Action & Adventure : 0.01128158844765343\n",
      "Simulation;Education : 0.01128158844765343\n",
      "Role Playing;Brain Games : 0.01128158844765343\n",
      "Racing;Pretend Play : 0.01128158844765343\n",
      "Puzzle;Education : 0.01128158844765343\n",
      "Parenting;Brain Games : 0.01128158844765343\n",
      "Music & Audio;Music & Video : 0.01128158844765343\n",
      "Lifestyle;Pretend Play : 0.01128158844765343\n",
      "Lifestyle;Education : 0.01128158844765343\n",
      "Health & Fitness;Education : 0.01128158844765343\n",
      "Health & Fitness;Action & Adventure : 0.01128158844765343\n",
      "Entertainment;Education : 0.01128158844765343\n",
      "Communication;Creativity : 0.01128158844765343\n",
      "Comics;Creativity : 0.01128158844765343\n",
      "Casual;Music & Video : 0.01128158844765343\n",
      "Card;Action & Adventure : 0.01128158844765343\n",
      "Books & Reference;Education : 0.01128158844765343\n",
      "Art & Design;Pretend Play : 0.01128158844765343\n",
      "Art & Design;Action & Adventure : 0.01128158844765343\n",
      "Arcade;Pretend Play : 0.01128158844765343\n",
      "Adventure;Education : 0.01128158844765343\n"
     ]
    }
   ],
   "source": [
    "display_table(android_free_apps, -4)"
   ]
  },
  {
   "cell_type": "markdown",
   "id": "fe761aad",
   "metadata": {},
   "source": [
    "In the case of free applications in English from the google play store, most of the applications are designed for practical purposes.\n",
    "\n",
    "Unlike the applications of the App Store, where there was a big difference between the number of applications designed for fun and the number of applications for practical purposes, in this case, there are more applications designed for practical purposes, however there is not a big difference as in the case of the App Store."
   ]
  },
  {
   "cell_type": "markdown",
   "id": "67cc7c67",
   "metadata": {},
   "source": [
    "## Most Popular Apps by Genre on the App Store"
   ]
  },
  {
   "cell_type": "markdown",
   "id": "e34038de",
   "metadata": {},
   "source": [
    "Now, we'd like to determine the kind of apps with the most users.\n",
    "\n",
    "One way to find out what genres are the most popular (have the most users) is to calculate the average number of installs for each app genre. "
   ]
  },
  {
   "cell_type": "code",
   "execution_count": 26,
   "id": "dbe91e79",
   "metadata": {},
   "outputs": [
    {
     "name": "stdout",
     "output_type": "stream",
     "text": [
      "Navigation : 86090.33333333333\n",
      "Reference : 74942.11111111111\n",
      "Social Networking : 71548.34905660378\n",
      "Music : 57326.530303030304\n",
      "Weather : 52279.892857142855\n",
      "Book : 39758.5\n",
      "Food & Drink : 33333.92307692308\n",
      "Finance : 31467.944444444445\n",
      "Photo & Video : 28441.54375\n",
      "Travel : 28243.8\n",
      "Shopping : 26919.690476190477\n",
      "Health & Fitness : 23298.015384615384\n",
      "Sports : 23008.898550724636\n",
      "Games : 22788.6696905016\n",
      "News : 21248.023255813954\n",
      "Productivity : 21028.410714285714\n",
      "Utilities : 18684.456790123455\n",
      "Lifestyle : 16485.764705882353\n",
      "Entertainment : 14029.830708661417\n",
      "Business : 7491.117647058823\n",
      "Education : 7003.983050847458\n",
      "Catalogs : 4004.0\n",
      "Medical : 612.0\n"
     ]
    }
   ],
   "source": [
    "prime_genre_table = freq_table(ios_free_apps, -5)\n",
    "genres = {}\n",
    "\n",
    "for genre in prime_genre_table:\n",
    "    total = 0\n",
    "    len_genre = 0\n",
    "    \n",
    "    for app in ios_free_apps:\n",
    "        genre_app = app[-5]\n",
    "        \n",
    "        if genre_app == genre:\n",
    "            n_ratings = float(app[5])\n",
    "            total += n_ratings\n",
    "            len_genre += 1\n",
    "        \n",
    "    avg_rating = total / len_genre\n",
    "    genres[genre] = avg_rating\n",
    "\n",
    "table_display = []\n",
    "\n",
    "for key in genres:\n",
    "    key_val_as_tuple = (genres[key], key)\n",
    "    table_display.append(key_val_as_tuple)\n",
    "        \n",
    "table_sorted = sorted(table_display, reverse = True)\n",
    "for entry in table_sorted:\n",
    "    print(entry[1], ':', entry[0])"
   ]
  },
  {
   "cell_type": "markdown",
   "id": "b836bbd5",
   "metadata": {},
   "source": [
    "The genre with the highest average installs is Navigation. Let's explore a little what applications there are."
   ]
  },
  {
   "cell_type": "code",
   "execution_count": 27,
   "id": "7a284f82",
   "metadata": {},
   "outputs": [
    {
     "name": "stdout",
     "output_type": "stream",
     "text": [
      "Waze - GPS Navigation, Maps & Real-time Traffic : 345046\n",
      "Google Maps - Navigation & Transit : 154911\n",
      "Geocaching® : 12811\n",
      "CoPilot GPS – Car Navigation & Offline Maps : 3582\n",
      "ImmobilienScout24: Real Estate Search in Germany : 187\n",
      "Railway Route Search : 5\n"
     ]
    }
   ],
   "source": [
    "for app in ios_free_apps:\n",
    "    if app[-5] == 'Navigation':\n",
    "        print(f'{app[1]} : {app[5]}')"
   ]
  },
  {
   "cell_type": "markdown",
   "id": "67c7e740",
   "metadata": {},
   "source": [
    "From what we can see, the **Navigation** genre is in first place thanks to _Waze_, _Google Maps_, and _Geocaching_. The genre is not as popular as it seemed. The number of installs is because of a few applications. This does not mean that **Navigation** is the most popular genre."
   ]
  },
  {
   "cell_type": "markdown",
   "id": "d42ba15e",
   "metadata": {},
   "source": [
    "Let's try with **Social Networking**:"
   ]
  },
  {
   "cell_type": "code",
   "execution_count": 28,
   "id": "5fcf3472",
   "metadata": {},
   "outputs": [
    {
     "name": "stdout",
     "output_type": "stream",
     "text": [
      "Facebook : 2974676\n",
      "Pinterest : 1061624\n",
      "Skype for iPhone : 373519\n",
      "Messenger : 351466\n",
      "Tumblr : 334293\n",
      "WhatsApp Messenger : 287589\n",
      "Kik : 260965\n",
      "ooVoo – Free Video Call, Text and Voice : 177501\n",
      "TextNow - Unlimited Text + Calls : 164963\n",
      "Viber Messenger – Text & Call : 164249\n",
      "Followers - Social Analytics For Instagram : 112778\n",
      "MeetMe - Chat and Meet New People : 97072\n",
      "We Heart It - Fashion, wallpapers, quotes, tattoos : 90414\n",
      "InsTrack for Instagram - Analytics Plus More : 85535\n",
      "Tango - Free Video Call, Voice and Chat : 75412\n",
      "LinkedIn : 71856\n",
      "Match™ - #1 Dating App. : 60659\n",
      "Skype for iPad : 60163\n",
      "POF - Best Dating App for Conversations : 52642\n",
      "Timehop : 49510\n",
      "Find My Family, Friends & iPhone - Life360 Locator : 43877\n",
      "Whisper - Share, Express, Meet : 39819\n",
      "Hangouts : 36404\n",
      "LINE PLAY - Your Avatar World : 34677\n",
      "WeChat : 34584\n",
      "Badoo - Meet New People, Chat, Socialize. : 34428\n",
      "Followers + for Instagram - Follower Analytics : 28633\n",
      "GroupMe : 28260\n",
      "Marco Polo Video Walkie Talkie : 27662\n",
      "Miitomo : 23965\n",
      "SimSimi : 23530\n",
      "Grindr - Gay and same sex guys chat, meet and date : 23201\n",
      "Wishbone - Compare Anything : 20649\n",
      "imo video calls and chat : 18841\n",
      "After School - Funny Anonymous School News : 18482\n",
      "Quick Reposter - Repost, Regram and Reshare Photos : 17694\n",
      "Weibo HD : 16772\n",
      "Repost for Instagram : 15185\n",
      "Live.me – Live Video Chat & Make Friends Nearby : 14724\n",
      "Nextdoor : 14402\n",
      "Followers Analytics for Instagram - InstaReport : 13914\n",
      "YouNow: Live Stream Video Chat : 12079\n",
      "FollowMeter for Instagram - Followers Tracking : 11976\n",
      "LINE : 11437\n",
      "eHarmony™ Dating App - Meet Singles : 11124\n",
      "Discord - Chat for Gamers : 9152\n",
      "QQ : 9109\n",
      "Telegram Messenger : 7573\n",
      "Weibo : 7265\n",
      "Periscope - Live Video Streaming Around the World : 6062\n",
      "Chat for Whatsapp - iPad Version : 5060\n",
      "QQ HD : 5058\n",
      "Followers Analysis Tool For Instagram App Free : 4253\n",
      "live.ly - live video streaming : 4145\n",
      "Houseparty - Group Video Chat : 3991\n",
      "SOMA Messenger : 3232\n",
      "Monkey : 3060\n",
      "Down To Lunch : 2535\n",
      "Flinch - Video Chat Staring Contest : 2134\n",
      "Highrise - Your Avatar Community : 2011\n",
      "LOVOO - Dating Chat : 1985\n",
      "PlayStation®Messages : 1918\n",
      "BOO! - Video chat camera with filters & stickers : 1805\n",
      "Qzone : 1649\n",
      "Chatous - Chat with new people : 1609\n",
      "Kiwi - Q&A : 1538\n",
      "GhostCodes - a discovery app for Snapchat : 1313\n",
      "Jodel : 1193\n",
      "FireChat : 1037\n",
      "Google Duo - simple video calling : 1033\n",
      "Fiesta by Tango - Chat & Meet New People : 885\n",
      "Google Allo — smart messaging : 862\n",
      "Peach — share vividly : 727\n",
      "Hey! VINA - Where Women Meet New Friends : 719\n",
      "Battlefield™ Companion : 689\n",
      "All Devices for WhatsApp - Messenger for iPad : 682\n",
      "Chat for Pokemon Go - GoChat : 500\n",
      "IAmNaughty – Dating App to Meet New People Online : 463\n",
      "Qzone HD : 458\n",
      "Zenly - Locate your friends in realtime : 427\n",
      "League of Legends Friends : 420\n",
      "豆瓣 : 407\n",
      "Candid - Speak Your Mind Freely : 398\n",
      "知乎 : 397\n",
      "Selfeo : 366\n",
      "Fake-A-Location Free ™ : 354\n",
      "Popcorn Buzz - Free Group Calls : 281\n",
      "Fam — Group video calling for iMessage : 279\n",
      "QQ International : 274\n",
      "Ameba : 269\n",
      "SoundCloud Pulse: for creators : 240\n",
      "Tantan : 235\n",
      "Cougar Dating & Life Style App for Mature Women : 213\n",
      "Rawr Messenger - Dab your chat : 180\n",
      "WhenToPost: Best Time to Post Photos for Instagram : 158\n",
      "Inke—Broadcast an amazing life : 147\n",
      "Mustknow - anonymous video Q&A : 53\n",
      "CTFxCmoji : 39\n",
      "Lobi : 36\n",
      "Chain: Collaborate On MyVideo Story/Group Video : 35\n",
      "botman - Real time video chat : 7\n",
      "BestieBox : 0\n",
      "MATCH ON LINE chat : 0\n",
      "niconico ch : 0\n",
      "LINE BLOG : 0\n",
      "bit-tube - Live Stream Video Chat : 0\n"
     ]
    }
   ],
   "source": [
    "for app in ios_free_apps:\n",
    "    if app[-5] == 'Social Networking':\n",
    "        print(f'{app[1]} : {app[5]}')"
   ]
  },
  {
   "cell_type": "markdown",
   "id": "05b64d79",
   "metadata": {},
   "source": [
    "As you can see, in this case, although there are more applications, we can see that the applications that have many installations are popular such as _WhatsApp_, _Facebook_, _Pinterest_. So it doesn’t help us much to know which genre is the most popular."
   ]
  },
  {
   "cell_type": "markdown",
   "id": "ecc7b4c5",
   "metadata": {},
   "source": [
    "Finally, let's try with **Games**:"
   ]
  },
  {
   "cell_type": "code",
   "execution_count": 29,
   "id": "a7801eb8",
   "metadata": {},
   "outputs": [
    {
     "name": "stdout",
     "output_type": "stream",
     "text": [
      "Clash of Clans : 2130805\n",
      "Temple Run : 1724546\n",
      "Candy Crush Saga : 961794\n",
      "Angry Birds : 824451\n",
      "Subway Surfers : 706110\n",
      "Solitaire : 679055\n",
      "CSR Racing : 677247\n",
      "Crossy Road - Endless Arcade Hopper : 669079\n",
      "Injustice: Gods Among Us : 612532\n",
      "Hay Day : 567344\n",
      "PAC-MAN : 508808\n",
      "DragonVale : 503230\n",
      "Head Soccer : 481564\n",
      "Despicable Me: Minion Rush : 464312\n",
      "The Sims™ FreePlay : 446880\n",
      "Sonic Dash : 418033\n",
      "8 Ball Pool™ : 416736\n",
      "Tiny Tower - Free City Building : 414803\n",
      "Jetpack Joyride : 405647\n",
      "Bike Race - Top Motorcycle Racing Games : 405007\n",
      "Kim Kardashian: Hollywood : 397730\n",
      "Trivia Crack : 393469\n",
      "WordBrain : 391401\n",
      "Sniper 3D Assassin: Shoot to Kill Gun Game : 386521\n",
      "Flow Free : 373857\n",
      "Geometry Dash Lite : 370370\n",
      "▻Sudoku : 359832\n",
      "Fruit Ninja® : 327025\n",
      "Pixel Gun 3D : 301182\n",
      "Temple Run 2 : 295211\n",
      "My Horse : 293857\n",
      "Word Cookies! : 287095\n",
      "Dragon City Mobile : 277268\n",
      "The Simpsons™: Tapped Out : 274501\n",
      "Plants vs. Zombies™ 2 : 267394\n",
      "Clash Royale : 266921\n",
      "Pokémon GO : 257627\n",
      "CSR Racing 2 : 257100\n",
      "Star Wars™: Commander : 253448\n",
      "Boom Beach : 241929\n",
      "MARVEL Contest of Champions : 233599\n",
      "MADDEN NFL Mobile : 230289\n",
      "Bejeweled Blitz : 221002\n",
      "Can You Escape : 218024\n",
      "Fallout Shelter : 199396\n",
      "SimCity BuildIt : 198338\n",
      "Real Basketball : 198050\n",
      "Asphalt 8: Airborne : 188568\n",
      "Magic Jigsaw Puzzles : 187666\n",
      "Farm Heroes Saga : 187579\n",
      "Beer Pong Game : 187315\n",
      "Glow Hockey 2 FREE : 186653\n",
      "Pictoword: Fun 2 Pics Guess What's the Word Trivia : 186089\n",
      "ROBLOX : 183621\n",
      "Bejeweled Classic : 183259\n",
      "Daily Celebrity Crossword : 181384\n",
      "AdVenture Capitalist : 181359\n",
      "Blackjack by MobilityWare : 180087\n",
      "Call of Duty®: Heroes : 179416\n",
      "Deer Hunter Classic : 179111\n",
      "Agar.io : 176514\n",
      "Piano Tiles (Don't Tap The White Tile) : 172686\n",
      "Angry Birds Rio : 170843\n",
      "The Secret Society® - Hidden Mystery : 168674\n",
      "Real Racing 3 : 164483\n",
      "Highway Rider : 164377\n",
      "Words with Friends – Best Word Game : 160668\n",
      "Bowmasters - Top Multiplayer Bowman Archery Game : 159323\n",
      "aa : 158845\n",
      "2048 : 157882\n",
      "Episode - Choose Your Story : 155903\n",
      "Dumb Ways to Die : 151559\n",
      "Jurassic World™: The Game : 149138\n",
      "Color Switch : 145043\n",
      "Iron Force : 141634\n",
      "Racing Penguin Free - Top Flying and Diving Game : 141224\n",
      "Two Dots : 139486\n",
      "Jigsaw Puzzle : 138726\n",
      "Summoners War : 137122\n",
      "Sniper Shooter: Gun Shooting Games : 134080\n",
      "Candy Crush Soda Saga : 133394\n",
      "My Singing Monsters : 130519\n",
      "Spider Solitaire Free by MobilityWare : 128739\n",
      "Smash Hit : 126233\n",
      "▻Solitaire : 124618\n",
      "My Talking Tom : 123859\n",
      "Clumsy Ninja : 123032\n",
      "Tetris® Blitz : 122868\n",
      "Star Wars™: Galaxy of Heroes : 122260\n",
      "Bubble Mania™ : 122081\n",
      "Geometry Dash Meltdown : 117470\n",
      "Beat the Boss 2 : 117338\n",
      "Village Life: Love, Marriage and Babies : 116620\n",
      "MORTAL KOMBAT X : 114475\n",
      "Sky Burger - Build & Match Food Free : 114096\n",
      "Big Fish Casino – Best Vegas Slot Machines & Games : 113959\n",
      "Monster Legends RPG - War, Fight & Heroes Game : 111579\n",
      "Fairway Solitaire Blast : 110062\n",
      "Angry Birds 2 : 109104\n",
      "Hill Climb Racing : 108183\n",
      "Game of War - Fire Age : 107916\n",
      "slither.io : 107817\n",
      "Cooking Fever : 107797\n",
      "Angry Birds Transformers : 106434\n",
      "⋆Solitaire : 106398\n",
      "ZigZag : 104502\n",
      "Family Guy: The Quest for Stuff : 104060\n",
      "DoubleDown Casino & Slots  – Vegas Slot Machines! : 101599\n",
      "MLB.com Home Run Derby 17 : 100035\n",
      "Shadow Fight 2 : 99206\n",
      "War Robots : 97122\n",
      "Angry Birds Space : 95892\n",
      "PewDiePie's Tuber Simulator : 90851\n",
      "Angry Birds HD : 89110\n",
      "Super Mario Run : 87958\n",
      "Tap Titans : 87898\n",
      "Score! Hero : 85395\n",
      "Angry Birds Epic RPG : 84680\n",
      "Hungry Shark Evolution : 83784\n",
      "Candy Blast Mania : 81648\n",
      "Godus : 81311\n",
      "Township : 80801\n",
      "4 Pics 1 Word : 80308\n",
      "Blackbox - think outside the box : 80058\n",
      "Egg, Inc. : 79074\n",
      "DEAD TRIGGER : 78918\n",
      "Block Craft 3D: Building Simulator Game For Free : 78412\n",
      "Daddy Long Legs : 76622\n",
      "Nyan Cat: Lost In Space : 76392\n",
      "Toy Blast : 75822\n",
      "Angry Birds Go! : 75793\n",
      "Angry Birds Seasons HD : 75714\n",
      "Covet Fashion - The Game for Dresses & Shopping : 75034\n",
      "QuizUp™ : 72989\n",
      "Bejeweled Classic HD : 70926\n",
      "Angry Birds Rio HD : 70122\n",
      "Trigger Fist : 69624\n",
      "Slots - Pharaoh's Way : 69610\n",
      "Stack : 69368\n",
      "UNO ™ & Friends : 68911\n",
      "Bloons TD Battles : 67861\n",
      "Dream League Soccer 2017 : 66004\n",
      "Solitaire· : 66002\n",
      "Ace Fishing: Wild Catch : 65831\n",
      "MY LITTLE PONY: Magic Princess Quests : 65201\n",
      "LINE: Disney Tsum Tsum : 65155\n",
      "MARVEL Spider-Man Unlimited : 64586\n",
      "Criminal Case : 63291\n",
      "WordBubbles! : 62061\n",
      "Happy Wheels : 60601\n",
      "Cascade: Fun Spin and Match Puzzle Game : 60488\n",
      "Flight Pilot Simulator 3D: Flying Game For Free : 60360\n",
      "Bowling King : 60271\n"
     ]
    }
   ],
   "source": [
    "for app in ios_free_apps:\n",
    "    if app[-5] == 'Games' and int(app[5]) > 60000:\n",
    "        print(f'{app[1]} : {app[5]}')"
   ]
  },
  {
   "cell_type": "markdown",
   "id": "acfe233a",
   "metadata": {},
   "source": [
    "Well, in this case it seems that **Games** is quite a popular genre so it can be useful to create a game"
   ]
  },
  {
   "cell_type": "markdown",
   "id": "d935bb8c",
   "metadata": {},
   "source": [
    "## Most popular Apps by Genre on Google Play"
   ]
  },
  {
   "cell_type": "markdown",
   "id": "601cd4b1",
   "metadata": {},
   "source": [
    "We have data about the number of installs for the Google Play market, so we should be able to get a clearer picture about genre popularity. However, the install numbers don't seem precise enough — we can see that most values are open-ended (100+, 1,000+, 5,000+, etc.). We're going to leave the numbers as they are, which means that we'll consider that an app with 100,000+ installs has 100,000 installs, and an app with 1,000,000+ installs has 1,000,000 installs, and so on. "
   ]
  },
  {
   "cell_type": "code",
   "execution_count": 30,
   "id": "1f4701f0",
   "metadata": {},
   "outputs": [
    {
     "name": "stdout",
     "output_type": "stream",
     "text": [
      "COMMUNICATION : 38456119.167247385\n",
      "VIDEO_PLAYERS : 24727872.452830188\n",
      "SOCIAL : 23253652.127118643\n",
      "PHOTOGRAPHY : 17840110.40229885\n",
      "PRODUCTIVITY : 16787331.344927534\n",
      "GAME : 15588015.603248259\n",
      "TRAVEL_AND_LOCAL : 13984077.710144928\n",
      "ENTERTAINMENT : 11640705.88235294\n",
      "TOOLS : 10801391.298666667\n",
      "NEWS_AND_MAGAZINES : 9549178.467741935\n",
      "BOOKS_AND_REFERENCE : 8767811.894736841\n",
      "SHOPPING : 7036877.311557789\n",
      "PERSONALIZATION : 5201482.6122448975\n",
      "WEATHER : 5074486.197183099\n",
      "HEALTH_AND_FITNESS : 4188821.9853479853\n",
      "MAPS_AND_NAVIGATION : 4056941.7741935486\n",
      "FAMILY : 3695641.8198090694\n",
      "SPORTS : 3638640.1428571427\n",
      "ART_AND_DESIGN : 1986335.0877192982\n",
      "FOOD_AND_DRINK : 1924897.7363636363\n",
      "EDUCATION : 1833495.145631068\n",
      "BUSINESS : 1712290.1474201474\n",
      "LIFESTYLE : 1437816.2687861272\n",
      "FINANCE : 1387692.475609756\n",
      "HOUSE_AND_HOME : 1331540.5616438356\n",
      "DATING : 854028.8303030303\n",
      "COMICS : 817657.2727272727\n",
      "AUTO_AND_VEHICLES : 647317.8170731707\n",
      "LIBRARIES_AND_DEMO : 638503.734939759\n",
      "PARENTING : 542603.6206896552\n",
      "BEAUTY : 513151.88679245283\n",
      "EVENTS : 253542.22222222222\n",
      "MEDICAL : 120550.61980830671\n"
     ]
    }
   ],
   "source": [
    "import string\n",
    "\n",
    "genres_table = freq_table(android_free_apps, 1)\n",
    "genres = {}\n",
    "\n",
    "for category in genres_table:\n",
    "    total = 0\n",
    "    len_category = 0\n",
    "    \n",
    "    for app in android_free_apps:\n",
    "        category_app = app[1]\n",
    "        \n",
    "        if category_app == category:\n",
    "            n_installs = app[5]\n",
    "            n_installs = n_installs.translate(n_installs.maketrans('', '', string.punctuation))\n",
    "            total += float(n_installs)\n",
    "            len_category += 1\n",
    "            \n",
    "    avg_install = total / len_category \n",
    "    genres[category] = avg_install\n",
    "\n",
    "table_display = []\n",
    "\n",
    "for key in genres:\n",
    "    key_val_as_tuple = (genres[key], key)\n",
    "    table_display.append(key_val_as_tuple)\n",
    "        \n",
    "table_sorted = sorted(table_display, reverse = True)\n",
    "for entry in table_sorted:\n",
    "    print(entry[1], ':', entry[0])"
   ]
  },
  {
   "cell_type": "markdown",
   "id": "9570cccb",
   "metadata": {},
   "source": [
    "As well as in the _App Store_ the first positions **COMMUNICATION**, **VIDEO_PLAYERS**, **SOCIAL** are there thanks to very popular applications such as _WhatsApp_, _Facebook_, _YouTube_."
   ]
  },
  {
   "cell_type": "code",
   "execution_count": 31,
   "id": "4269c994",
   "metadata": {},
   "outputs": [
    {
     "name": "stdout",
     "output_type": "stream",
     "text": [
      "WhatsApp Messenger : 1,000,000,000+\n",
      "imo beta free calls and text : 100,000,000+\n",
      "Android Messages : 100,000,000+\n",
      "Google Duo - High Quality Video Calls : 500,000,000+\n",
      "Messenger – Text and Video Chat for Free : 1,000,000,000+\n",
      "imo free video calls and chat : 500,000,000+\n",
      "Skype - free IM & video calls : 1,000,000,000+\n",
      "Who : 100,000,000+\n",
      "GO SMS Pro - Messenger, Free Themes, Emoji : 100,000,000+\n",
      "LINE: Free Calls & Messages : 500,000,000+\n",
      "Google Chrome: Fast & Secure : 1,000,000,000+\n",
      "Firefox Browser fast & private : 100,000,000+\n",
      "UC Browser - Fast Download Private & Secure : 500,000,000+\n",
      "Gmail : 1,000,000,000+\n",
      "Hangouts : 1,000,000,000+\n",
      "Messenger Lite: Free Calls & Messages : 100,000,000+\n",
      "Kik : 100,000,000+\n",
      "KakaoTalk: Free Calls & Text : 100,000,000+\n",
      "Opera Mini - fast web browser : 100,000,000+\n",
      "Opera Browser: Fast and Secure : 100,000,000+\n",
      "Telegram : 100,000,000+\n",
      "Truecaller: Caller ID, SMS spam blocking & Dialer : 100,000,000+\n",
      "UC Browser Mini -Tiny Fast Private & Secure : 100,000,000+\n",
      "Viber Messenger : 500,000,000+\n",
      "WeChat : 100,000,000+\n",
      "Yahoo Mail – Stay Organized : 100,000,000+\n",
      "BBM - Free Calls & Messages : 100,000,000+\n"
     ]
    }
   ],
   "source": [
    "for app in android_free_apps:\n",
    "    if app[1] == \"COMMUNICATION\" and (app[5] == '1,000,000,000+'\n",
    "                                      or app[5] == '500,000,000+'\n",
    "                                      or app[5] == '100,000,000+'):\n",
    "        print(f'{app[0]} : {app[5]}')"
   ]
  },
  {
   "cell_type": "code",
   "execution_count": 32,
   "id": "e8e9ea80",
   "metadata": {},
   "outputs": [
    {
     "name": "stdout",
     "output_type": "stream",
     "text": [
      "YouTube : 1,000,000,000+\n",
      "Motorola Gallery : 100,000,000+\n",
      "VLC for Android : 100,000,000+\n",
      "Google Play Movies & TV : 1,000,000,000+\n",
      "MX Player : 500,000,000+\n",
      "Dubsmash : 100,000,000+\n",
      "VivaVideo - Video Editor & Photo Movie : 100,000,000+\n",
      "VideoShow-Video Editor, Video Maker, Beauty Camera : 100,000,000+\n",
      "Motorola FM Radio : 100,000,000+\n"
     ]
    }
   ],
   "source": [
    "for app in android_free_apps:\n",
    "    if app[1] == \"VIDEO_PLAYERS\" and (app[5] == '1,000,000,000+'\n",
    "                                      or app[5] == '500,000,000+'\n",
    "                                      or app[5] == '100,000,000+'):\n",
    "        print(f'{app[0]} : {app[5]}')"
   ]
  },
  {
   "cell_type": "code",
   "execution_count": 33,
   "id": "ab67ba01",
   "metadata": {},
   "outputs": [
    {
     "name": "stdout",
     "output_type": "stream",
     "text": [
      "Facebook : 1,000,000,000+\n",
      "Facebook Lite : 500,000,000+\n",
      "Tumblr : 100,000,000+\n",
      "Pinterest : 100,000,000+\n",
      "Google+ : 1,000,000,000+\n",
      "Badoo - Free Chat & Dating App : 100,000,000+\n",
      "Tango - Live Video Broadcast : 100,000,000+\n",
      "Instagram : 1,000,000,000+\n",
      "Snapchat : 500,000,000+\n",
      "LinkedIn : 100,000,000+\n",
      "Tik Tok - including musical.ly : 100,000,000+\n",
      "BIGO LIVE - Live Stream : 100,000,000+\n",
      "VK : 100,000,000+\n"
     ]
    }
   ],
   "source": [
    "for app in android_free_apps:\n",
    "    if app[1] == \"SOCIAL\" and (app[5] == '1,000,000,000+'\n",
    "                               or app[5] == '500,000,000+'\n",
    "                               or app[5] == '100,000,000+'):\n",
    "        print(f'{app[0]} : {app[5]}')"
   ]
  },
  {
   "cell_type": "markdown",
   "id": "729cc780",
   "metadata": {},
   "source": [
    "However, the **GAME** genre seems to work well here as well."
   ]
  },
  {
   "cell_type": "code",
   "execution_count": 34,
   "id": "c3c32ec6",
   "metadata": {},
   "outputs": [
    {
     "name": "stdout",
     "output_type": "stream",
     "text": [
      "Sonic Dash : 100,000,000+\n",
      "PAC-MAN : 100,000,000+\n",
      "Roll the Ball® - slide puzzle : 100,000,000+\n",
      "Piano Tiles 2™ : 100,000,000+\n",
      "Pokémon GO : 100,000,000+\n",
      "Extreme Car Driving Simulator : 100,000,000+\n",
      "Trivia Crack : 100,000,000+\n",
      "Angry Birds 2 : 100,000,000+\n",
      "Candy Crush Saga : 500,000,000+\n",
      "8 Ball Pool : 100,000,000+\n",
      "Subway Surfers : 1,000,000,000+\n",
      "Candy Crush Soda Saga : 100,000,000+\n",
      "Clash Royale : 100,000,000+\n",
      "Clash of Clans : 100,000,000+\n",
      "Plants vs. Zombies FREE : 100,000,000+\n",
      "Pou : 500,000,000+\n",
      "Flow Free : 100,000,000+\n",
      "My Talking Angela : 100,000,000+\n",
      "slither.io : 100,000,000+\n",
      "Cooking Fever : 100,000,000+\n",
      "Yes day : 100,000,000+\n",
      "Score! Hero : 100,000,000+\n",
      "Dream League Soccer 2018 : 100,000,000+\n",
      "My Talking Tom : 500,000,000+\n",
      "Sniper 3D Gun Shooter: Free Shooting Games - FPS : 100,000,000+\n",
      "Zombie Tsunami : 100,000,000+\n",
      "Helix Jump : 100,000,000+\n",
      "Crossy Road : 100,000,000+\n",
      "Temple Run 2 : 500,000,000+\n",
      "Talking Tom Gold Run : 100,000,000+\n",
      "Agar.io : 100,000,000+\n",
      "Bus Rush: Subway Edition : 100,000,000+\n",
      "Traffic Racer : 100,000,000+\n",
      "Hill Climb Racing : 100,000,000+\n",
      "Angry Birds Rio : 100,000,000+\n",
      "Cut the Rope FULL FREE : 100,000,000+\n",
      "Hungry Shark Evolution : 100,000,000+\n",
      "Angry Birds Classic : 100,000,000+\n",
      "Hill Climb Racing 2 : 100,000,000+\n",
      "Jetpack Joyride : 100,000,000+\n",
      "Super Mario Run : 100,000,000+\n",
      "Glow Hockey : 100,000,000+\n",
      "Asphalt 8: Airborne : 100,000,000+\n",
      "Lep's World 2 🍀🍀 : 100,000,000+\n",
      "Fruit Ninja® : 100,000,000+\n",
      "Vector : 100,000,000+\n",
      "Dr. Driving : 100,000,000+\n",
      "Bike Race Free - Top Motorcycle Racing Games : 100,000,000+\n",
      "Smash Hit : 100,000,000+\n",
      "Temple Run : 100,000,000+\n",
      "Geometry Dash Lite : 100,000,000+\n",
      "Ant Smasher by Best Cool & Fun Games : 100,000,000+\n",
      "Angry Birds Star Wars : 100,000,000+\n",
      "Mobile Legends: Bang Bang : 100,000,000+\n",
      "Banana Kong : 100,000,000+\n",
      "Skater Boy : 100,000,000+\n",
      "Shadow Fight 2 : 100,000,000+\n",
      "Modern Combat 5: eSports FPS : 100,000,000+\n",
      "Garena Free Fire : 100,000,000+\n"
     ]
    }
   ],
   "source": [
    "for app in android_free_apps:\n",
    "    if app[1] == \"GAME\" and (app[5] == '1,000,000,000+'\n",
    "                             or app[5] == '500,000,000+'\n",
    "                             or app[5] == '100,000,000+'):\n",
    "        print(f'{app[0]} : {app[5]}')"
   ]
  },
  {
   "cell_type": "markdown",
   "id": "fe615007",
   "metadata": {},
   "source": [
    "So we can say that creating a game would be profitable on both platforms since besides being a popular genre, a game keeps our audience in our application for a long time, which would make us receive more profits."
   ]
  },
  {
   "cell_type": "markdown",
   "id": "6889ca3b",
   "metadata": {},
   "source": [
    "## Conclusion"
   ]
  },
  {
   "cell_type": "markdown",
   "id": "71d0e379",
   "metadata": {},
   "source": [
    "In this project we analyze the data on the applications of the App Store and Google Play Store in search of getting enough information to find an application profile that is profitable on both platforms.\n",
    "\n",
    "We concluded that creating a game would be a profitable option on both platforms since it is a popular genre and it keeps the audience for a long time in our application which is beneficial considering that our source of income is ads."
   ]
  }
 ],
 "metadata": {
  "kernelspec": {
   "display_name": "Python 3",
   "language": "python",
   "name": "python3"
  },
  "language_info": {
   "codemirror_mode": {
    "name": "ipython",
    "version": 3
   },
   "file_extension": ".py",
   "mimetype": "text/x-python",
   "name": "python",
   "nbconvert_exporter": "python",
   "pygments_lexer": "ipython3",
   "version": "3.8.5"
  }
 },
 "nbformat": 4,
 "nbformat_minor": 5
}
